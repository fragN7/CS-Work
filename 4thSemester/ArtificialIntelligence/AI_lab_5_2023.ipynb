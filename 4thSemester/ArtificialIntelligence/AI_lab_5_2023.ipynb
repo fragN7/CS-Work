{
 "cells": [
  {
   "cell_type": "markdown",
   "id": "b8210b19",
   "metadata": {},
   "source": [
    "## A.I. Assignment 5\n",
    "\n",
    "## Learning Goals\n",
    "\n",
    "By the end of this lab, you should be able to:\n",
    "* Get more familiar with tensors in pytorch \n",
    "* Create a simple multilayer perceptron model with pytorch\n",
    "* Visualise the parameters\n",
    "\n",
    "\n",
    "### Task\n",
    "\n",
    "Build a fully connected feed forward network that adds two bits. Determine the a propper achitecture for this network (what database you use for this problem? how many layers? how many neurons on each layer? what is the activation function? what is the loss function? etc)\n",
    "\n",
    "Create at least 3 such networks and compare their performance (how accurate they are?, how farst they are trained to get at 1 accuracy?)\n",
    "\n",
    "Display for the best one the weights for each layer.\n"
   ]
  },
  {
   "cell_type": "code",
   "execution_count": 58,
   "id": "e3614e5f",
   "metadata": {},
   "outputs": [],
   "source": [
    "import torch\n",
    "import torch.nn as nn\n",
    "from collections import OrderedDict\n"
   ]
  },
  {
   "cell_type": "code",
   "execution_count": 138,
   "id": "5ee7e7d7",
   "metadata": {},
   "outputs": [],
   "source": [
    "# your code here\n",
    "\n",
    "model1 = nn.Sequential(OrderedDict([\n",
    "    ('hidden', nn.Linear(2, 2)),\n",
    "    ('output', nn.Linear(2, 1))\n",
    "]))"
   ]
  },
  {
   "cell_type": "code",
   "execution_count": 139,
   "id": "665ae958",
   "metadata": {},
   "outputs": [
    {
     "name": "stdout",
     "output_type": "stream",
     "text": [
      "Sequential(\n",
      "  (hidden): Linear(in_features=2, out_features=2, bias=True)\n",
      "  (output): Linear(in_features=2, out_features=1, bias=True)\n",
      ")\n"
     ]
    }
   ],
   "source": [
    "print(model1)"
   ]
  },
  {
   "cell_type": "code",
   "execution_count": 140,
   "id": "e26f0d3e",
   "metadata": {},
   "outputs": [
    {
     "name": "stdout",
     "output_type": "stream",
     "text": [
      "tensor([[0., 0.],\n",
      "        [0., 1.],\n",
      "        [1., 0.],\n",
      "        [1., 1.]])\n"
     ]
    }
   ],
   "source": [
    "# your code here\n",
    "X_train = torch.tensor([[0, 0], [0, 1], [1, 0], [1, 1]], dtype=torch.float32)\n",
    "print(X_train)"
   ]
  },
  {
   "cell_type": "code",
   "execution_count": 141,
   "id": "4fb16bbc",
   "metadata": {},
   "outputs": [
    {
     "name": "stdout",
     "output_type": "stream",
     "text": [
      "tensor([[0.],\n",
      "        [1.],\n",
      "        [1.],\n",
      "        [0.]])\n"
     ]
    }
   ],
   "source": [
    "# your code here\n",
    "y_train = torch.tensor([[0], [1], [1], [0]], dtype=torch.float32)\n",
    "print(y_train)"
   ]
  },
  {
   "cell_type": "code",
   "execution_count": 142,
   "id": "69d920ed",
   "metadata": {},
   "outputs": [],
   "source": [
    "# your code here\n",
    "criterion = nn.MSELoss()\n",
    "optimizer = torch.optim.Adam(model1.parameters(), lr=0.01)"
   ]
  },
  {
   "cell_type": "code",
   "execution_count": 143,
   "id": "cde91f6f",
   "metadata": {},
   "outputs": [
    {
     "name": "stdout",
     "output_type": "stream",
     "text": [
      "Epoch [100/1000], Loss: 0.2848\n",
      "Epoch [200/1000], Loss: 0.2528\n",
      "Epoch [300/1000], Loss: 0.2500\n",
      "Epoch [400/1000], Loss: 0.2500\n",
      "Epoch [500/1000], Loss: 0.2500\n",
      "Epoch [600/1000], Loss: 0.2500\n",
      "Epoch [700/1000], Loss: 0.2500\n",
      "Epoch [800/1000], Loss: 0.2500\n",
      "Epoch [900/1000], Loss: 0.2500\n",
      "Epoch [1000/1000], Loss: 0.2500\n"
     ]
    }
   ],
   "source": [
    "# your code here\n",
    "# Train the model\n",
    "num_epochs = 1000\n",
    "for epoch in range(num_epochs):\n",
    "    # Forward pass\n",
    "    outputs1 = model1(X_train)\n",
    "    loss = criterion(outputs1, y_train)\n",
    "    \n",
    "    # Backward and optimize\n",
    "    optimizer.zero_grad()\n",
    "    loss.backward()\n",
    "    optimizer.step()\n",
    "    \n",
    "    # Print progress\n",
    "    if (epoch+1) % 100 == 0:\n",
    "        print('Epoch [{}/{}], Loss: {:.4f}'.format(epoch+1, num_epochs, loss.item()))"
   ]
  },
  {
   "cell_type": "code",
   "execution_count": 155,
   "id": "dff3ec1a",
   "metadata": {},
   "outputs": [],
   "source": [
    "# your code her"
   ]
  },
  {
   "cell_type": "code",
   "execution_count": 148,
   "id": "c1a7518b",
   "metadata": {},
   "outputs": [
    {
     "name": "stdout",
     "output_type": "stream",
     "text": [
      "hidden.weight tensor([[0.8894, 0.4917],\n",
      "        [0.0462, 0.0255]])\n",
      "hidden.bias tensor([0.2192, 0.5827])\n",
      "output.weight tensor([[-0.0335,  0.6446]])\n",
      "output.bias tensor([0.1317])\n"
     ]
    }
   ],
   "source": [
    "# your code here\n",
    "# print model wights\n",
    "for name, param in model1.named_parameters():\n",
    "    if param.requires_grad:\n",
    "        print(name, param.data)"
   ]
  },
  {
   "cell_type": "code",
   "execution_count": 151,
   "id": "4cdf09ba",
   "metadata": {},
   "outputs": [
    {
     "name": "stdout",
     "output_type": "stream",
     "text": [
      "Epoch [1000/5000], Loss: 0.6931\n",
      "Epoch [2000/5000], Loss: 0.6931\n",
      "Epoch [3000/5000], Loss: 0.6931\n",
      "Epoch [4000/5000], Loss: 0.6931\n",
      "Epoch [5000/5000], Loss: 0.6931\n",
      "Test Accuracy: 50.00%\n"
     ]
    },
    {
     "data": {
      "image/png": "[encoded data removed]",
      "text/plain": [
       "<Figure size 640x480 with 1 Axes>"
      ]
     },
     "metadata": {},
     "output_type": "display_data"
    }
   ],
   "source": [
    "import torch\n",
    "import torch.nn as nn\n",
    "\n",
    "model2 = nn.Sequential(OrderedDict([\n",
    "    ('fc1', nn.Linear(2, 1)),\n",
    "    ('Relu1', nn.ReLU()),\n",
    "    ('fc2', nn.Linear(1, 1)),\n",
    "    ('Relu2', nn.ReLU())\n",
    "]))\n",
    "# Define the input size, output size, and hidden size\n",
    "\n",
    "# Define the layers of the network using nn.Sequential and OrderedDict\n",
    "\n",
    "# Define the loss function and optimizer\n",
    "criterion2 = nn.BCELoss()\n",
    "optimizer2 = torch.optim.Adam(model2.parameters(), lr=0.01)\n",
    "\n",
    "# Train the network\n",
    "X_train2 = torch.tensor([[0, 0], [0, 1], [1, 0], [1, 1]], dtype=torch.float32)\n",
    "y_train2 = torch.tensor([[1], [0], [0], [1]], dtype=torch.float32)\n",
    "\n",
    "num_epochs = 5000\n",
    "for epoch in range(num_epochs):\n",
    "    # Forward pass\n",
    "    outputs = model2(X_train2)\n",
    "    loss = criterion2(outputs, y_train2)\n",
    "    \n",
    "    # Backward and optimize\n",
    "    optimizer2.zero_grad()\n",
    "    loss.backward()\n",
    "    optimizer2.step()\n",
    "    \n",
    "    # Print the loss every 1000 epochs\n",
    "    if (epoch+1) % 1000 == 0:\n",
    "        print('Epoch [{}/{}], Loss: {:.4f}'.format(epoch+1, num_epochs, loss.item()))\n",
    "\n",
    "# Evaluate the network on the test set\n",
    "X_test2 = torch.tensor([[0, 0], [0, 1], [1, 0], [1, 1]], dtype=torch.float32)\n",
    "y_test2 = torch.tensor([[0], [1], [1], [0]], dtype=torch.float32)\n",
    "\n",
    "with torch.no_grad():\n",
    "    outputs = model2(X_test2)\n",
    "    predicted = (outputs >= 0.5).int()\n",
    "    accuracy = (predicted == y_test).sum().item() / predicted.shape[0]\n",
    "    print('Test Accuracy: {:.2f}%'.format(accuracy * 100))\n",
    "\n",
    "outputs2 = model1(X_train).detach().numpy()\n",
    "\n",
    "# Plot the predicted outputs against the actual outputs\n",
    "plt.plot(y_test.numpy(), 'o', label='Actual')\n",
    "plt.plot(outputs2, 'o', label='Predicted')\n",
    "plt.legend()\n",
    "plt.show()"
   ]
  },
  {
   "cell_type": "code",
   "execution_count": 156,
   "id": "d0bea66c",
   "metadata": {},
   "outputs": [
    {
     "name": "stdout",
     "output_type": "stream",
     "text": [
      "Epoch [1000/5000], Loss: 0.7046\n",
      "Epoch [2000/5000], Loss: 0.7046\n",
      "Epoch [3000/5000], Loss: 0.7046\n",
      "Epoch [4000/5000], Loss: 0.7046\n",
      "Epoch [5000/5000], Loss: 0.7046\n",
      "Test Accuracy: 50.00%\n"
     ]
    },
    {
     "data": {
      "image/png": "[encoded data removed]",
      "text/plain": [
       "<Figure size 640x480 with 1 Axes>"
      ]
     },
     "metadata": {},
     "output_type": "display_data"
    }
   ],
   "source": [
    "model3 = nn.Sequential(OrderedDict([\n",
    "    ('fc1', nn.Linear(2, 5)),\n",
    "    ('relu1', nn.ReLU()),\n",
    "    ('fc2', nn.Linear(5, 3)),\n",
    "    ('relu2', nn.ReLU()),\n",
    "    ('fc3', nn.Linear(3, 1)),\n",
    "    ('sigmoid', nn.Sigmoid())\n",
    "]))\n",
    "\n",
    "# Define the loss function and optimizer\n",
    "criterion3 = nn.BCELoss()\n",
    "optimizer3 = torch.optim.Adam(model3.parameters(), lr=0.01)\n",
    "\n",
    "# Train the network\n",
    "X_train3 = torch.tensor([[0, 0], [0, 1], [1, 0], [1, 1]], dtype=torch.float32)\n",
    "y_train3 = torch.tensor([[1], [0], [0], [1]], dtype=torch.float32)\n",
    "\n",
    "num_epochs = 5000\n",
    "for epoch in range(num_epochs):\n",
    "    # Forward pass\n",
    "    outputs = model3(X_train3)\n",
    "    loss = criterion2(outputs, y_train3)\n",
    "    \n",
    "    # Backward and optimize\n",
    "    optimizer2.zero_grad()\n",
    "    loss.backward()\n",
    "    optimizer2.step()\n",
    "    \n",
    "    # Print the loss every 1000 epochs\n",
    "    if (epoch+1) % 1000 == 0:\n",
    "        print('Epoch [{}/{}], Loss: {:.4f}'.format(epoch+1, num_epochs, loss.item()))\n",
    "\n",
    "# Evaluate the network on the test set\n",
    "X_test2 = torch.tensor([[0, 0], [0, 1], [1, 0], [1, 1]], dtype=torch.float32)\n",
    "y_test2 = torch.tensor([[1], [0], [0], [1]], dtype=torch.float32)\n",
    "\n",
    "with torch.no_grad():\n",
    "    outputs = model2(X_test2)\n",
    "    predicted = (outputs >= 0.5).int()\n",
    "    accuracy = (predicted == y_test).sum().item() / predicted.shape[0]\n",
    "    print('Test Accuracy: {:.2f}%'.format(accuracy * 100))\n",
    "\n",
    "outputs2 = model3(X_train).detach().numpy()\n",
    "\n",
    "# Plot the predicted outputs against the actual outputs\n",
    "plt.plot(y_test.numpy(), 'o', label='Actual')\n",
    "plt.plot(outputs2, 'o', label='Predicted')\n",
    "plt.legend()\n",
    "plt.show()"
   ]
  },
  {
   "cell_type": "code",
   "execution_count": null,
   "id": "e29c65a2",
   "metadata": {},
   "outputs": [],
   "source": []
  },
  {
   "cell_type": "code",
   "execution_count": null,
   "id": "c4449695",
   "metadata": {},
   "outputs": [],
   "source": []
  }
 ],
 "metadata": {
  "kernelspec": {
   "display_name": "Python 3 (ipykernel)",
   "language": "python",
   "name": "python3"
  },
  "language_info": {
   "codemirror_mode": {
    "name": "ipython",
    "version": 3
   },
   "file_extension": ".py",
   "mimetype": "text/x-python",
   "name": "python",
   "nbconvert_exporter": "python",
   "pygments_lexer": "ipython3",
   "version": "3.9.16"
  }
 },
 "nbformat": 4,
 "nbformat_minor": 5
}
